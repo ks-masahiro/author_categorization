{
 "cells": [
  {
   "cell_type": "code",
   "execution_count": 1,
   "metadata": {},
   "outputs": [
    {
     "name": "stderr",
     "output_type": "stream",
     "text": [
      "\n",
      "Attaching package: 'dplyr'\n",
      "\n",
      "\n",
      "The following objects are masked from 'package:stats':\n",
      "\n",
      "    filter, lag\n",
      "\n",
      "\n",
      "The following objects are masked from 'package:base':\n",
      "\n",
      "    intersect, setdiff, setequal, union\n",
      "\n",
      "\n"
     ]
    },
    {
     "name": "stdout",
     "output_type": "stream",
     "text": [
      "file = C:/Users/Masahiro Kasahara/Desktop/Dataset/A_haguruma.txt Ngram = 2 \n",
      "length = 7603 \n",
      "\n",
      "file = C:/Users/Masahiro Kasahara/Desktop/Dataset/A_hana.txt Ngram = 2 \n",
      "length = 2465 \n",
      "\n",
      "file = C:/Users/Masahiro Kasahara/Desktop/Dataset/A_rashomon.txt Ngram = 2 \n",
      "length = 2443 \n",
      "\n",
      "file = C:/Users/Masahiro Kasahara/Desktop/Dataset/A_torokko.txt Ngram = 2 \n",
      "length = 2017 \n",
      "\n",
      "file = C:/Users/Masahiro Kasahara/Desktop/Dataset/A_un.txt Ngram = 2 \n",
      "length = 2745 \n",
      "\n",
      "file = C:/Users/Masahiro Kasahara/Desktop/Dataset/D_hanafubuki.txt Ngram = 2 \n",
      "length = 7027 \n",
      "\n",
      "file = C:/Users/Masahiro Kasahara/Desktop/Dataset/D_hashire_merosu.txt Ngram = 2 \n",
      "length = 3964 \n",
      "\n",
      "file = C:/Users/Masahiro Kasahara/Desktop/Dataset/D_ningen_shikkaku.txt Ngram = 2 \n",
      "length = 14936 \n",
      "\n",
      "file = C:/Users/Masahiro Kasahara/Desktop/Dataset/D_shayo.txt Ngram = 2 \n",
      "length = 14643 \n",
      "\n",
      "file = C:/Users/Masahiro Kasahara/Desktop/Dataset/D_tsugaru.txt Ngram = 2 \n",
      "length = 22393 \n",
      "\n",
      "file = C:/Users/Masahiro Kasahara/Desktop/Dataset/F_gakumonno_dokuritsu.txt Ngram = 2 \n",
      "length = 5720 \n",
      "\n",
      "file = C:/Users/Masahiro Kasahara/Desktop/Dataset/F_gakumonno_susume.txt Ngram = 2 \n",
      "length = 15430 \n",
      "\n",
      "file = C:/Users/Masahiro Kasahara/Desktop/Dataset/F_gakusha_anshin_ron.txt Ngram = 2 \n",
      "length = 4241 \n",
      "\n",
      "file = C:/Users/Masahiro Kasahara/Desktop/Dataset/F_nihon_danshi_ron.txt Ngram = 2 \n",
      "length = 7139 \n",
      "\n",
      "file = C:/Users/Masahiro Kasahara/Desktop/Dataset/F_onna_daigaku_hyoron.txt Ngram = 2 \n",
      "length = 9471 \n",
      "\n",
      "file = C:/Users/Masahiro Kasahara/Desktop/Dataset/M_gan.txt Ngram = 2 \n",
      "length = 15630 \n",
      "\n",
      "file = C:/Users/Masahiro Kasahara/Desktop/Dataset/M_hyakumonogatari.txt Ngram = 2 \n",
      "length = 4759 \n",
      "\n",
      "file = C:/Users/Masahiro Kasahara/Desktop/Dataset/M_maihime.txt Ngram = 2 \n",
      "length = 6934 \n",
      "\n",
      "file = C:/Users/Masahiro Kasahara/Desktop/Dataset/M_moso.txt Ngram = 2 \n",
      "length = 5372 \n",
      "\n",
      "file = C:/Users/Masahiro Kasahara/Desktop/Dataset/M_seinen.txt Ngram = 2 \n",
      "length = 23324 \n",
      "\n",
      "file = C:/Users/Masahiro Kasahara/Desktop/Dataset/N_bocchan.txt Ngram = 2 \n",
      "length = 17635 \n",
      "\n",
      "file = C:/Users/Masahiro Kasahara/Desktop/Dataset/N_gubijinso.txt Ngram = 2 \n",
      "length = 31988 \n",
      "\n",
      "file = C:/Users/Masahiro Kasahara/Desktop/Dataset/N_kokoro.txt Ngram = 2 \n",
      "length = 21526 \n",
      "\n",
      "file = C:/Users/Masahiro Kasahara/Desktop/Dataset/N_nowaki.txt Ngram = 2 \n",
      "length = 19600 \n",
      "\n",
      "file = C:/Users/Masahiro Kasahara/Desktop/Dataset/N_wagahaiwa_nekodearu.txt Ngram = 2 \n",
      "length = 44100 \n",
      "\n"
     ]
    }
   ],
   "source": [
    "# パッケージの読み込み\n",
    "library(\"RMeCab\")\n",
    "library(\"dplyr\")\n",
    "# 分析対象とするテキスト（のみ）が入ったディレクトリのパスを指定\n",
    "dir <- \"C:/Users/Masahiro Kasahara/Desktop/Dataset\"\n",
    "# 複数ファイルを形態素解析し，頻度集計\n",
    "docNgram.result <- docNgram(dir, type = 0, N = 2) %>%  # 文字2-gramを集計\n",
    "  as.data.frame()  # データフレームに変換"
   ]
  },
  {
   "cell_type": "code",
   "execution_count": 2,
   "metadata": {},
   "outputs": [
    {
     "data": {
      "text/html": [
       "<table>\n",
       "<caption>A data.frame: 25 × 17</caption>\n",
       "<thead>\n",
       "\t<tr><th></th><th scope=col>author</th><th scope=col>か</th><th scope=col>が</th><th scope=col>く</th><th scope=col>し</th><th scope=col>ず</th><th scope=col>て</th><th scope=col>で</th><th scope=col>と</th><th scope=col>に</th><th scope=col>は</th><th scope=col>ば</th><th scope=col>へ</th><th scope=col>も</th><th scope=col>ら</th><th scope=col>り</th><th scope=col>れ</th></tr>\n",
       "\t<tr><th></th><th scope=col>&lt;chr&gt;</th><th scope=col>&lt;int&gt;</th><th scope=col>&lt;int&gt;</th><th scope=col>&lt;int&gt;</th><th scope=col>&lt;int&gt;</th><th scope=col>&lt;int&gt;</th><th scope=col>&lt;int&gt;</th><th scope=col>&lt;int&gt;</th><th scope=col>&lt;int&gt;</th><th scope=col>&lt;int&gt;</th><th scope=col>&lt;int&gt;</th><th scope=col>&lt;int&gt;</th><th scope=col>&lt;int&gt;</th><th scope=col>&lt;int&gt;</th><th scope=col>&lt;int&gt;</th><th scope=col>&lt;int&gt;</th><th scope=col>&lt;int&gt;</th></tr>\n",
       "</thead>\n",
       "<tbody>\n",
       "\t<tr><th scope=row>A_haguruma</th><td>芥川</td><td>  8</td><td> 48</td><td>  0</td><td> 27</td><td>  0</td><td>   1</td><td>  0</td><td> 19</td><td>  5</td><td>  3</td><td>  9</td><td> 6</td><td>  8</td><td> 47</td><td> 35</td><td>12</td></tr>\n",
       "\t<tr><th scope=row>A_hana</th><td>芥川</td><td>  1</td><td> 21</td><td>  2</td><td>  1</td><td>  2</td><td>  46</td><td> 17</td><td> 13</td><td> 21</td><td> 58</td><td>  7</td><td> 1</td><td> 16</td><td> 15</td><td>  5</td><td> 1</td></tr>\n",
       "\t<tr><th scope=row>A_rashomon</th><td>芥川</td><td>  4</td><td> 31</td><td>  5</td><td>  3</td><td>  2</td><td>  48</td><td> 21</td><td> 20</td><td> 26</td><td> 74</td><td>  8</td><td> 0</td><td> 10</td><td> 34</td><td>  6</td><td> 1</td></tr>\n",
       "\t<tr><th scope=row>A_torokko</th><td>芥川</td><td>  3</td><td> 17</td><td>  1</td><td>  1</td><td>  0</td><td>   0</td><td>  0</td><td> 19</td><td> 31</td><td> 23</td><td>  2</td><td> 2</td><td> 10</td><td> 24</td><td>  8</td><td> 0</td></tr>\n",
       "\t<tr><th scope=row>A_un</th><td>芥川</td><td> 12</td><td> 43</td><td>  8</td><td>  1</td><td>  2</td><td>  45</td><td> 33</td><td> 31</td><td> 29</td><td> 61</td><td>  7</td><td> 4</td><td> 35</td><td> 45</td><td>  3</td><td> 0</td></tr>\n",
       "\t<tr><th scope=row>D_hanafubuki</th><td>太宰</td><td> 23</td><td> 54</td><td> 20</td><td> 24</td><td> 15</td><td> 100</td><td> 35</td><td> 19</td><td> 31</td><td> 94</td><td> 27</td><td> 3</td><td> 73</td><td> 22</td><td> 44</td><td> 7</td></tr>\n",
       "\t<tr><th scope=row>D_hashire_merosu</th><td>太宰</td><td>  8</td><td> 21</td><td>  5</td><td> 14</td><td>  5</td><td>  50</td><td> 17</td><td> 14</td><td> 21</td><td>131</td><td>  8</td><td> 0</td><td> 29</td><td> 25</td><td> 16</td><td> 5</td></tr>\n",
       "\t<tr><th scope=row>D_ningen_shikkaku</th><td>太宰</td><td> 80</td><td>280</td><td>141</td><td>205</td><td> 69</td><td> 528</td><td>224</td><td>139</td><td>240</td><td>742</td><td> 32</td><td> 1</td><td>329</td><td>211</td><td>167</td><td>70</td></tr>\n",
       "\t<tr><th scope=row>D_shayo</th><td>太宰</td><td> 88</td><td>311</td><td>100</td><td>112</td><td> 49</td><td> 924</td><td>314</td><td>211</td><td>293</td><td>842</td><td> 41</td><td> 9</td><td>451</td><td>383</td><td>141</td><td>31</td></tr>\n",
       "\t<tr><th scope=row>D_tsugaru</th><td>太宰</td><td>142</td><td>429</td><td>115</td><td>181</td><td> 59</td><td> 828</td><td>302</td><td>144</td><td>267</td><td>941</td><td> 67</td><td>30</td><td>342</td><td>250</td><td>194</td><td>59</td></tr>\n",
       "\t<tr><th scope=row>F_gakumonno_dokuritsu</th><td>福沢</td><td> 10</td><td> 11</td><td> 11</td><td> 63</td><td> 52</td><td> 222</td><td>  2</td><td> 19</td><td> 45</td><td>132</td><td> 92</td><td> 0</td><td>104</td><td>  2</td><td> 32</td><td> 3</td></tr>\n",
       "\t<tr><th scope=row>F_gakumonno_susume</th><td>福沢</td><td> 38</td><td> 14</td><td>167</td><td>295</td><td>266</td><td> 374</td><td>  8</td><td> 26</td><td> 88</td><td>240</td><td>321</td><td> 1</td><td>320</td><td> 11</td><td>285</td><td>39</td></tr>\n",
       "\t<tr><th scope=row>F_gakusha_anshin_ron</th><td>福沢</td><td> 11</td><td>  4</td><td> 20</td><td> 38</td><td> 30</td><td>  75</td><td>  4</td><td> 10</td><td> 20</td><td> 75</td><td> 62</td><td> 0</td><td> 63</td><td>  0</td><td> 59</td><td> 3</td></tr>\n",
       "\t<tr><th scope=row>F_nihon_danshi_ron</th><td>福沢</td><td> 10</td><td>  6</td><td> 28</td><td> 62</td><td> 70</td><td> 231</td><td>  2</td><td> 11</td><td> 55</td><td>131</td><td> 89</td><td> 0</td><td>147</td><td>  5</td><td> 66</td><td> 7</td></tr>\n",
       "\t<tr><th scope=row>F_onna_daigaku_hyoron</th><td>福沢</td><td> 25</td><td>  7</td><td> 30</td><td> 52</td><td> 97</td><td> 135</td><td>  1</td><td> 13</td><td> 44</td><td> 84</td><td> 63</td><td> 1</td><td>103</td><td> 11</td><td> 57</td><td>15</td></tr>\n",
       "\t<tr><th scope=row>M_gan</th><td>森  </td><td> 38</td><td>279</td><td> 20</td><td>  4</td><td> 10</td><td> 679</td><td>225</td><td>188</td><td>243</td><td>218</td><td> 52</td><td>17</td><td>100</td><td>214</td><td> 28</td><td> 6</td></tr>\n",
       "\t<tr><th scope=row>M_hyakumonogatari</th><td>森  </td><td>  5</td><td> 65</td><td>  9</td><td>  2</td><td>  2</td><td> 119</td><td> 42</td><td> 33</td><td> 51</td><td> 41</td><td>  5</td><td> 3</td><td> 20</td><td> 41</td><td>  4</td><td> 1</td></tr>\n",
       "\t<tr><th scope=row>M_maihime</th><td>森  </td><td>  2</td><td> 38</td><td> 19</td><td> 16</td><td> 28</td><td> 134</td><td>  3</td><td>  5</td><td> 62</td><td> 63</td><td> 46</td><td> 9</td><td> 28</td><td>  0</td><td> 28</td><td>13</td></tr>\n",
       "\t<tr><th scope=row>M_moso</th><td>森  </td><td>  2</td><td> 41</td><td>  4</td><td>  1</td><td>  5</td><td>  96</td><td> 34</td><td> 18</td><td> 42</td><td> 52</td><td> 10</td><td> 1</td><td> 27</td><td> 24</td><td>  1</td><td> 0</td></tr>\n",
       "\t<tr><th scope=row>M_seinen</th><td>森  </td><td> 47</td><td>454</td><td> 25</td><td>  8</td><td> 11</td><td>1014</td><td>351</td><td>283</td><td>427</td><td>417</td><td> 97</td><td>27</td><td>121</td><td>280</td><td> 23</td><td> 4</td></tr>\n",
       "\t<tr><th scope=row>N_bocchan</th><td>夏目</td><td> 95</td><td>344</td><td> 14</td><td> 20</td><td>  7</td><td> 567</td><td>144</td><td>229</td><td> 71</td><td> 97</td><td> 28</td><td> 9</td><td> 70</td><td>586</td><td> 44</td><td>18</td></tr>\n",
       "\t<tr><th scope=row>N_gubijinso</th><td>夏目</td><td>129</td><td>297</td><td> 67</td><td> 38</td><td> 40</td><td> 960</td><td>177</td><td>224</td><td>500</td><td>498</td><td> 88</td><td> 6</td><td>159</td><td>362</td><td> 66</td><td>12</td></tr>\n",
       "\t<tr><th scope=row>N_kokoro</th><td>夏目</td><td>116</td><td>341</td><td> 35</td><td> 30</td><td> 12</td><td> 646</td><td>270</td><td>246</td><td>310</td><td>420</td><td> 79</td><td> 7</td><td>226</td><td>315</td><td> 52</td><td> 1</td></tr>\n",
       "\t<tr><th scope=row>N_nowaki</th><td>夏目</td><td> 76</td><td>171</td><td> 32</td><td> 18</td><td> 27</td><td> 444</td><td> 80</td><td> 71</td><td> 98</td><td>157</td><td> 31</td><td> 5</td><td> 76</td><td>213</td><td> 33</td><td> 7</td></tr>\n",
       "\t<tr><th scope=row>N_wagahaiwa_nekodearu</th><td>夏目</td><td>309</td><td>747</td><td>122</td><td> 76</td><td> 81</td><td>1113</td><td>407</td><td>478</td><td>183</td><td>285</td><td> 85</td><td>15</td><td>184</td><td>750</td><td>123</td><td>25</td></tr>\n",
       "</tbody>\n",
       "</table>\n"
      ],
      "text/latex": [
       "A data.frame: 25 × 17\n",
       "\\begin{tabular}{r|lllllllllllllllll}\n",
       "  & author & か & が & く & し & ず & て & で & と & に & は & ば & へ & も & ら & り & れ\\\\\n",
       "  & <chr> & <int> & <int> & <int> & <int> & <int> & <int> & <int> & <int> & <int> & <int> & <int> & <int> & <int> & <int> & <int> & <int>\\\\\n",
       "\\hline\n",
       "\tA\\_haguruma & 芥川 &   8 &  48 &   0 &  27 &   0 &    1 &   0 &  19 &   5 &   3 &   9 &  6 &   8 &  47 &  35 & 12\\\\\n",
       "\tA\\_hana & 芥川 &   1 &  21 &   2 &   1 &   2 &   46 &  17 &  13 &  21 &  58 &   7 &  1 &  16 &  15 &   5 &  1\\\\\n",
       "\tA\\_rashomon & 芥川 &   4 &  31 &   5 &   3 &   2 &   48 &  21 &  20 &  26 &  74 &   8 &  0 &  10 &  34 &   6 &  1\\\\\n",
       "\tA\\_torokko & 芥川 &   3 &  17 &   1 &   1 &   0 &    0 &   0 &  19 &  31 &  23 &   2 &  2 &  10 &  24 &   8 &  0\\\\\n",
       "\tA\\_un & 芥川 &  12 &  43 &   8 &   1 &   2 &   45 &  33 &  31 &  29 &  61 &   7 &  4 &  35 &  45 &   3 &  0\\\\\n",
       "\tD\\_hanafubuki & 太宰 &  23 &  54 &  20 &  24 &  15 &  100 &  35 &  19 &  31 &  94 &  27 &  3 &  73 &  22 &  44 &  7\\\\\n",
       "\tD\\_hashire\\_merosu & 太宰 &   8 &  21 &   5 &  14 &   5 &   50 &  17 &  14 &  21 & 131 &   8 &  0 &  29 &  25 &  16 &  5\\\\\n",
       "\tD\\_ningen\\_shikkaku & 太宰 &  80 & 280 & 141 & 205 &  69 &  528 & 224 & 139 & 240 & 742 &  32 &  1 & 329 & 211 & 167 & 70\\\\\n",
       "\tD\\_shayo & 太宰 &  88 & 311 & 100 & 112 &  49 &  924 & 314 & 211 & 293 & 842 &  41 &  9 & 451 & 383 & 141 & 31\\\\\n",
       "\tD\\_tsugaru & 太宰 & 142 & 429 & 115 & 181 &  59 &  828 & 302 & 144 & 267 & 941 &  67 & 30 & 342 & 250 & 194 & 59\\\\\n",
       "\tF\\_gakumonno\\_dokuritsu & 福沢 &  10 &  11 &  11 &  63 &  52 &  222 &   2 &  19 &  45 & 132 &  92 &  0 & 104 &   2 &  32 &  3\\\\\n",
       "\tF\\_gakumonno\\_susume & 福沢 &  38 &  14 & 167 & 295 & 266 &  374 &   8 &  26 &  88 & 240 & 321 &  1 & 320 &  11 & 285 & 39\\\\\n",
       "\tF\\_gakusha\\_anshin\\_ron & 福沢 &  11 &   4 &  20 &  38 &  30 &   75 &   4 &  10 &  20 &  75 &  62 &  0 &  63 &   0 &  59 &  3\\\\\n",
       "\tF\\_nihon\\_danshi\\_ron & 福沢 &  10 &   6 &  28 &  62 &  70 &  231 &   2 &  11 &  55 & 131 &  89 &  0 & 147 &   5 &  66 &  7\\\\\n",
       "\tF\\_onna\\_daigaku\\_hyoron & 福沢 &  25 &   7 &  30 &  52 &  97 &  135 &   1 &  13 &  44 &  84 &  63 &  1 & 103 &  11 &  57 & 15\\\\\n",
       "\tM\\_gan & 森   &  38 & 279 &  20 &   4 &  10 &  679 & 225 & 188 & 243 & 218 &  52 & 17 & 100 & 214 &  28 &  6\\\\\n",
       "\tM\\_hyakumonogatari & 森   &   5 &  65 &   9 &   2 &   2 &  119 &  42 &  33 &  51 &  41 &   5 &  3 &  20 &  41 &   4 &  1\\\\\n",
       "\tM\\_maihime & 森   &   2 &  38 &  19 &  16 &  28 &  134 &   3 &   5 &  62 &  63 &  46 &  9 &  28 &   0 &  28 & 13\\\\\n",
       "\tM\\_moso & 森   &   2 &  41 &   4 &   1 &   5 &   96 &  34 &  18 &  42 &  52 &  10 &  1 &  27 &  24 &   1 &  0\\\\\n",
       "\tM\\_seinen & 森   &  47 & 454 &  25 &   8 &  11 & 1014 & 351 & 283 & 427 & 417 &  97 & 27 & 121 & 280 &  23 &  4\\\\\n",
       "\tN\\_bocchan & 夏目 &  95 & 344 &  14 &  20 &   7 &  567 & 144 & 229 &  71 &  97 &  28 &  9 &  70 & 586 &  44 & 18\\\\\n",
       "\tN\\_gubijinso & 夏目 & 129 & 297 &  67 &  38 &  40 &  960 & 177 & 224 & 500 & 498 &  88 &  6 & 159 & 362 &  66 & 12\\\\\n",
       "\tN\\_kokoro & 夏目 & 116 & 341 &  35 &  30 &  12 &  646 & 270 & 246 & 310 & 420 &  79 &  7 & 226 & 315 &  52 &  1\\\\\n",
       "\tN\\_nowaki & 夏目 &  76 & 171 &  32 &  18 &  27 &  444 &  80 &  71 &  98 & 157 &  31 &  5 &  76 & 213 &  33 &  7\\\\\n",
       "\tN\\_wagahaiwa\\_nekodearu & 夏目 & 309 & 747 & 122 &  76 &  81 & 1113 & 407 & 478 & 183 & 285 &  85 & 15 & 184 & 750 & 123 & 25\\\\\n",
       "\\end{tabular}\n"
      ],
      "text/markdown": [
       "\n",
       "A data.frame: 25 × 17\n",
       "\n",
       "| <!--/--> | author &lt;chr&gt; | か &lt;int&gt; | が &lt;int&gt; | く &lt;int&gt; | し &lt;int&gt; | ず &lt;int&gt; | て &lt;int&gt; | で &lt;int&gt; | と &lt;int&gt; | に &lt;int&gt; | は &lt;int&gt; | ば &lt;int&gt; | へ &lt;int&gt; | も &lt;int&gt; | ら &lt;int&gt; | り &lt;int&gt; | れ &lt;int&gt; |\n",
       "|---|---|---|---|---|---|---|---|---|---|---|---|---|---|---|---|---|---|\n",
       "| A_haguruma | 芥川 |   8 |  48 |   0 |  27 |   0 |    1 |   0 |  19 |   5 |   3 |   9 |  6 |   8 |  47 |  35 | 12 |\n",
       "| A_hana | 芥川 |   1 |  21 |   2 |   1 |   2 |   46 |  17 |  13 |  21 |  58 |   7 |  1 |  16 |  15 |   5 |  1 |\n",
       "| A_rashomon | 芥川 |   4 |  31 |   5 |   3 |   2 |   48 |  21 |  20 |  26 |  74 |   8 |  0 |  10 |  34 |   6 |  1 |\n",
       "| A_torokko | 芥川 |   3 |  17 |   1 |   1 |   0 |    0 |   0 |  19 |  31 |  23 |   2 |  2 |  10 |  24 |   8 |  0 |\n",
       "| A_un | 芥川 |  12 |  43 |   8 |   1 |   2 |   45 |  33 |  31 |  29 |  61 |   7 |  4 |  35 |  45 |   3 |  0 |\n",
       "| D_hanafubuki | 太宰 |  23 |  54 |  20 |  24 |  15 |  100 |  35 |  19 |  31 |  94 |  27 |  3 |  73 |  22 |  44 |  7 |\n",
       "| D_hashire_merosu | 太宰 |   8 |  21 |   5 |  14 |   5 |   50 |  17 |  14 |  21 | 131 |   8 |  0 |  29 |  25 |  16 |  5 |\n",
       "| D_ningen_shikkaku | 太宰 |  80 | 280 | 141 | 205 |  69 |  528 | 224 | 139 | 240 | 742 |  32 |  1 | 329 | 211 | 167 | 70 |\n",
       "| D_shayo | 太宰 |  88 | 311 | 100 | 112 |  49 |  924 | 314 | 211 | 293 | 842 |  41 |  9 | 451 | 383 | 141 | 31 |\n",
       "| D_tsugaru | 太宰 | 142 | 429 | 115 | 181 |  59 |  828 | 302 | 144 | 267 | 941 |  67 | 30 | 342 | 250 | 194 | 59 |\n",
       "| F_gakumonno_dokuritsu | 福沢 |  10 |  11 |  11 |  63 |  52 |  222 |   2 |  19 |  45 | 132 |  92 |  0 | 104 |   2 |  32 |  3 |\n",
       "| F_gakumonno_susume | 福沢 |  38 |  14 | 167 | 295 | 266 |  374 |   8 |  26 |  88 | 240 | 321 |  1 | 320 |  11 | 285 | 39 |\n",
       "| F_gakusha_anshin_ron | 福沢 |  11 |   4 |  20 |  38 |  30 |   75 |   4 |  10 |  20 |  75 |  62 |  0 |  63 |   0 |  59 |  3 |\n",
       "| F_nihon_danshi_ron | 福沢 |  10 |   6 |  28 |  62 |  70 |  231 |   2 |  11 |  55 | 131 |  89 |  0 | 147 |   5 |  66 |  7 |\n",
       "| F_onna_daigaku_hyoron | 福沢 |  25 |   7 |  30 |  52 |  97 |  135 |   1 |  13 |  44 |  84 |  63 |  1 | 103 |  11 |  57 | 15 |\n",
       "| M_gan | 森   |  38 | 279 |  20 |   4 |  10 |  679 | 225 | 188 | 243 | 218 |  52 | 17 | 100 | 214 |  28 |  6 |\n",
       "| M_hyakumonogatari | 森   |   5 |  65 |   9 |   2 |   2 |  119 |  42 |  33 |  51 |  41 |   5 |  3 |  20 |  41 |   4 |  1 |\n",
       "| M_maihime | 森   |   2 |  38 |  19 |  16 |  28 |  134 |   3 |   5 |  62 |  63 |  46 |  9 |  28 |   0 |  28 | 13 |\n",
       "| M_moso | 森   |   2 |  41 |   4 |   1 |   5 |   96 |  34 |  18 |  42 |  52 |  10 |  1 |  27 |  24 |   1 |  0 |\n",
       "| M_seinen | 森   |  47 | 454 |  25 |   8 |  11 | 1014 | 351 | 283 | 427 | 417 |  97 | 27 | 121 | 280 |  23 |  4 |\n",
       "| N_bocchan | 夏目 |  95 | 344 |  14 |  20 |   7 |  567 | 144 | 229 |  71 |  97 |  28 |  9 |  70 | 586 |  44 | 18 |\n",
       "| N_gubijinso | 夏目 | 129 | 297 |  67 |  38 |  40 |  960 | 177 | 224 | 500 | 498 |  88 |  6 | 159 | 362 |  66 | 12 |\n",
       "| N_kokoro | 夏目 | 116 | 341 |  35 |  30 |  12 |  646 | 270 | 246 | 310 | 420 |  79 |  7 | 226 | 315 |  52 |  1 |\n",
       "| N_nowaki | 夏目 |  76 | 171 |  32 |  18 |  27 |  444 |  80 |  71 |  98 | 157 |  31 |  5 |  76 | 213 |  33 |  7 |\n",
       "| N_wagahaiwa_nekodearu | 夏目 | 309 | 747 | 122 |  76 |  81 | 1113 | 407 | 478 | 183 | 285 |  85 | 15 | 184 | 750 | 123 | 25 |\n",
       "\n"
      ],
      "text/plain": [
       "                      author か  が  く  し  ず  て   で  と  に  は  ば  へ\n",
       "A_haguruma            芥川     8  48   0  27   0    1   0  19   5   3   9  6\n",
       "A_hana                芥川     1  21   2   1   2   46  17  13  21  58   7  1\n",
       "A_rashomon            芥川     4  31   5   3   2   48  21  20  26  74   8  0\n",
       "A_torokko             芥川     3  17   1   1   0    0   0  19  31  23   2  2\n",
       "A_un                  芥川    12  43   8   1   2   45  33  31  29  61   7  4\n",
       "D_hanafubuki          太宰    23  54  20  24  15  100  35  19  31  94  27  3\n",
       "D_hashire_merosu      太宰     8  21   5  14   5   50  17  14  21 131   8  0\n",
       "D_ningen_shikkaku     太宰    80 280 141 205  69  528 224 139 240 742  32  1\n",
       "D_shayo               太宰    88 311 100 112  49  924 314 211 293 842  41  9\n",
       "D_tsugaru             太宰   142 429 115 181  59  828 302 144 267 941  67 30\n",
       "F_gakumonno_dokuritsu 福沢    10  11  11  63  52  222   2  19  45 132  92  0\n",
       "F_gakumonno_susume    福沢    38  14 167 295 266  374   8  26  88 240 321  1\n",
       "F_gakusha_anshin_ron  福沢    11   4  20  38  30   75   4  10  20  75  62  0\n",
       "F_nihon_danshi_ron    福沢    10   6  28  62  70  231   2  11  55 131  89  0\n",
       "F_onna_daigaku_hyoron 福沢    25   7  30  52  97  135   1  13  44  84  63  1\n",
       "M_gan                 森      38 279  20   4  10  679 225 188 243 218  52 17\n",
       "M_hyakumonogatari     森       5  65   9   2   2  119  42  33  51  41   5  3\n",
       "M_maihime             森       2  38  19  16  28  134   3   5  62  63  46  9\n",
       "M_moso                森       2  41   4   1   5   96  34  18  42  52  10  1\n",
       "M_seinen              森      47 454  25   8  11 1014 351 283 427 417  97 27\n",
       "N_bocchan             夏目    95 344  14  20   7  567 144 229  71  97  28  9\n",
       "N_gubijinso           夏目   129 297  67  38  40  960 177 224 500 498  88  6\n",
       "N_kokoro              夏目   116 341  35  30  12  646 270 246 310 420  79  7\n",
       "N_nowaki              夏目    76 171  32  18  27  444  80  71  98 157  31  5\n",
       "N_wagahaiwa_nekodearu 夏目   309 747 122  76  81 1113 407 478 183 285  85 15\n",
       "                      も  ら  り  れ\n",
       "A_haguruma              8  47  35 12\n",
       "A_hana                 16  15   5  1\n",
       "A_rashomon             10  34   6  1\n",
       "A_torokko              10  24   8  0\n",
       "A_un                   35  45   3  0\n",
       "D_hanafubuki           73  22  44  7\n",
       "D_hashire_merosu       29  25  16  5\n",
       "D_ningen_shikkaku     329 211 167 70\n",
       "D_shayo               451 383 141 31\n",
       "D_tsugaru             342 250 194 59\n",
       "F_gakumonno_dokuritsu 104   2  32  3\n",
       "F_gakumonno_susume    320  11 285 39\n",
       "F_gakusha_anshin_ron   63   0  59  3\n",
       "F_nihon_danshi_ron    147   5  66  7\n",
       "F_onna_daigaku_hyoron 103  11  57 15\n",
       "M_gan                 100 214  28  6\n",
       "M_hyakumonogatari      20  41   4  1\n",
       "M_maihime              28   0  28 13\n",
       "M_moso                 27  24   1  0\n",
       "M_seinen              121 280  23  4\n",
       "N_bocchan              70 586  44 18\n",
       "N_gubijinso           159 362  66 12\n",
       "N_kokoro              226 315  52  1\n",
       "N_nowaki               76 213  33  7\n",
       "N_wagahaiwa_nekodearu 184 750 123 25"
      ]
     },
     "metadata": {},
     "output_type": "display_data"
    }
   ],
   "source": [
    "# パッケージの読み込み\n",
    "library(\"tidyr\")\n",
    "library(\"stringr\")\n",
    "# 16種類の文字と読点の2-gramの頻度を集計\n",
    "docNgram.result.2 <- docNgram.result[docNgram.result$Ngram %in% c(\"[か-、]\", \"[が-、]\", \"[く-、]\", \"[し-、]\", \"[ず-、]\", \"[て-、]\", \"[で-、]\", \"[と-、]\", \"[に-、]\", \"[は-、]\", \"[ば-、]\", \"[へ-、]\", \"[も-、]\", \"[ら-、]\", \"[り-、]\", \"[れ-、]\"), ] %>%  # 文字と読点の2-gramを集計\n",
    "  spread(., key = Ngram, value = Freq)  # データ形式を変換\n",
    "rownames(docNgram.result.2) <- docNgram.result.2$Text  # 行ラベルを付与\n",
    "rownames(docNgram.result.2) <- str_replace(rownames(docNgram.result.2), pattern = \".txt\", replacement = \"\")  # 行ラベルを編集（.txtを削除）\n",
    "colnames(docNgram.result.2) <- c(\"author\", \"か\", \"が\", \"く\", \"し\", \"ず\", \"て\", \"で\", \"と\", \"に\", \"は\", \"ば\", \"へ\", \"も\", \"ら\", \"り\", \"れ\")  # 列ラベルを編集\n",
    "docNgram.result.2$author <- c(rep(\"芥川\", 5), rep(\"太宰\", 5), rep(\"福沢\", 5), rep(\"森\", 5), rep(\"夏目\", 5))  # 作者に関する情報を含む列を作成\n",
    "# 集計済みの頻度表を確認\n",
    "docNgram.result.2"
   ]
  },
  {
   "cell_type": "code",
   "execution_count": 3,
   "metadata": {},
   "outputs": [
    {
     "name": "stderr",
     "output_type": "stream",
     "text": [
      "Warning message in grid.Call(C_stringMetric, as.graphicsAnnot(x$label)):\n",
      "\" Windows のフォントデータベースにフォントファミリが見付かりません \"\n",
      "Warning message in grid.Call(C_stringMetric, as.graphicsAnnot(x$label)):\n",
      "\" Windows のフォントデータベースにフォントファミリが見付かりません \"\n",
      "Warning message in grid.Call.graphics(C_text, as.graphicsAnnot(x$label), x$x, x$y, :\n",
      "\" Windows のフォントデータベースにフォントファミリが見付かりません \"\n",
      "Warning message in grid.Call(C_textBounds, as.graphicsAnnot(x$label), x$x, x$y, :\n",
      "\" Windows のフォントデータベースにフォントファミリが見付かりません \"\n",
      "Warning message in grid.Call.graphics(C_text, as.graphicsAnnot(x$label), x$x, x$y, :\n",
      "\" Windows のフォントデータベースにフォントファミリが見付かりません \"\n"
     ]
    },
    {
     "data": {
      "image/png": "[encoded data removed]",
      "text/plain": [
       "plot without title"
      ]
     },
     "metadata": {
      "image/png": {
       "height": 420,
       "width": 420
      }
     },
     "output_type": "display_data"
    }
   ],
   "source": [
    "# パッケージの読み込み\n",
    "library(\"ggplot2\")\n",
    "# 相対頻度に変換\n",
    "docNgram.result.3 <- spread(docNgram.result, key = Ngram, value = Freq)  # wide形式に変換\n",
    "tokens <- rowSums(docNgram.result.3[, -1])  # テキストごとの頻度の総計を計算\n",
    "docNgram.result.2[, 2 : 17] <- docNgram.result.2[, 2 : 17] / tokens * 1000  # 頻度の相対化\n",
    "# 描画用にデータを整形\n",
    "docNgram.long <- gather(docNgram.result.2, key = \"文字\", value = \"頻度\", -author)  # long形式に変換\n",
    "colnames(docNgram.long) <- c(\"作者\", \"文字\", \"頻度\")  # 列ラベルを編集\n",
    "# 箱ひげ図を作成\n",
    "ggplot(docNgram.long, aes(x = 作者, y = 頻度)) +  # 描画に用いるデータフレームと変数を指定\n",
    "  geom_boxplot() +  # 描画の形式を指定\n",
    "  facet_wrap(~文字, ncol = 4, scales = \"free\") +  # 全ての変数をまとめて描画\n",
    "  theme_gray(base_family = \"HiraKakuPro-W3\")  # 日本語フォントを指定"
   ]
  },
  {
   "cell_type": "code",
   "execution_count": 4,
   "metadata": {},
   "outputs": [
    {
     "data": {
      "image/png": "[encoded data removed]",
      "text/plain": [
       "Plot with title \"Cluster Dendrogram\""
      ]
     },
     "metadata": {
      "image/png": {
       "height": 420,
       "width": 420
      }
     },
     "output_type": "display_data"
    }
   ],
   "source": [
    "# 階層型クラスター分析\n",
    "docNgram.result.2[, 2 : 17] %>%  # 分析データを指定\n",
    "  dist() %>%  # ユークリッド距離（デフォルト）\n",
    "  hclust() %>%  # 最長一致法（デフォルト）\n",
    "  plot()  # デンドログラムの形式で可視化"
   ]
  },
  {
   "cell_type": "code",
   "execution_count": 5,
   "metadata": {},
   "outputs": [
    {
     "name": "stderr",
     "output_type": "stream",
     "text": [
      "Installing package into 'C:/Users/Masahiro Kasahara/Documents/R/win-library/4.0'\n",
      "(as 'lib' is unspecified)\n",
      "\n"
     ]
    },
    {
     "name": "stdout",
     "output_type": "stream",
     "text": [
      "package 'FactoMineR' successfully unpacked and MD5 sums checked\n",
      "\n",
      "The downloaded binary packages are in\n",
      "\tC:\\Users\\Masahiro Kasahara\\AppData\\Local\\Temp\\RtmpQlWkuI\\downloaded_packages\n"
     ]
    },
    {
     "name": "stderr",
     "output_type": "stream",
     "text": [
      "Warning message:\n",
      "\"ggrepel: 5 unlabeled data points (too many overlaps). Consider increasing max.overlaps\"\n"
     ]
    },
    {
     "data": {
      "text/plain": [
       "**Results of the Correspondence Analysis (CA)**\n",
       "The row variable has  25  categories; the column variable has 16 categories\n",
       "The chi square of independence between the two variables is equal to 299.0926 (p-value =  0.9915072 ).\n",
       "*The results are available in the following objects:\n",
       "\n",
       "   name              description                   \n",
       "1  \"$eig\"            \"eigenvalues\"                 \n",
       "2  \"$col\"            \"results for the columns\"     \n",
       "3  \"$col$coord\"      \"coord. for the columns\"      \n",
       "4  \"$col$cos2\"       \"cos2 for the columns\"        \n",
       "5  \"$col$contrib\"    \"contributions of the columns\"\n",
       "6  \"$row\"            \"results for the rows\"        \n",
       "7  \"$row$coord\"      \"coord. for the rows\"         \n",
       "8  \"$row$cos2\"       \"cos2 for the rows\"           \n",
       "9  \"$row$contrib\"    \"contributions of the rows\"   \n",
       "10 \"$call\"           \"summary called parameters\"   \n",
       "11 \"$call$marge.col\" \"weights of the columns\"      \n",
       "12 \"$call$marge.row\" \"weights of the rows\"         "
      ]
     },
     "metadata": {},
     "output_type": "display_data"
    },
    {
     "data": {
      "image/png": "[encoded data removed]",
      "text/plain": [
       "plot without title"
      ]
     },
     "metadata": {
      "image/png": {
       "height": 420,
       "width": 420
      }
     },
     "output_type": "display_data"
    }
   ],
   "source": [
    "# パッケージのインストール（初回のみ）\n",
    "install.packages(\"FactoMineR\", dependencies = TRUE)\n",
    "# パッケージの読み込み\n",
    "library(\"FactoMineR\")\n",
    "# 対応分析\n",
    "CA(docNgram.result.2[, 2 : 17])"
   ]
  },
  {
   "cell_type": "markdown",
   "metadata": {},
   "source": [
    "サポートベクターマシン"
   ]
  },
  {
   "cell_type": "code",
   "execution_count": 58,
   "metadata": {},
   "outputs": [
    {
     "data": {
      "text/plain": [
       "\n",
       "Call:\n",
       "svm(formula = as.factor(author) ~ ., data = docNgram.result.2, cross = 10)\n",
       "\n",
       "\n",
       "Parameters:\n",
       "   SVM-Type:  C-classification \n",
       " SVM-Kernel:  radial \n",
       "       cost:  1 \n",
       "\n",
       "Number of Support Vectors:  24\n",
       "\n",
       " ( 5 5 4 5 5 )\n",
       "\n",
       "\n",
       "Number of Classes:  5 \n",
       "\n",
       "Levels: \n",
       " 夏目 芥川 森 太宰 福沢\n",
       "\n",
       "10-fold cross-validation on training data:\n",
       "\n",
       "Total Accuracy: 76 \n",
       "Single Accuracies:\n",
       " 50 100 100 66.66667 100 66.66667 100 66.66667 100 33.33333 \n",
       "\n",
       "\n"
      ]
     },
     "metadata": {},
     "output_type": "display_data"
    }
   ],
   "source": [
    "# パッケージのインストール（初回のみ）\n",
    "#install.packages(\"e1071\", dependencies = TRUE)\n",
    "# パッケージの読み込み\n",
    "library(\"e1071\")\n",
    "# SVM\n",
    "set.seed(1)  # 乱数のシードを固定\n",
    "svm(as.factor(author) ~ ., cross = 13, data = docNgram.result.2) %>%  # SVM（13-foldの交差妥当化）\n",
    " summary()  # 結果の概要を表示"
   ]
  },
  {
   "cell_type": "markdown",
   "metadata": {},
   "source": [
    "ランダムフォレスト"
   ]
  },
  {
   "cell_type": "code",
   "execution_count": 40,
   "metadata": {},
   "outputs": [
    {
     "data": {
      "text/plain": [
       "\n",
       "Call:\n",
       " randomForest(formula = as.factor(author) ~ ., data = docNgram.result.2,      mtry = 4, proximity = TRUE) \n",
       "               Type of random forest: classification\n",
       "                     Number of trees: 500\n",
       "No. of variables tried at each split: 4\n",
       "\n",
       "        OOB estimate of  error rate: 16%\n",
       "Confusion matrix:\n",
       "     夏目 芥川 森 太宰 福沢 class.error\n",
       "夏目    5    0  0    0    0         0.0\n",
       "芥川    1    2  2    0    0         0.6\n",
       "森      0    0  4    0    1         0.2\n",
       "太宰    0    0  0    5    0         0.0\n",
       "福沢    0    0  0    0    5         0.0"
      ]
     },
     "metadata": {},
     "output_type": "display_data"
    }
   ],
   "source": [
    "# パッケージのインストール（初回のみ）\n",
    "#install.packages(\"randomForest\", dependencies = TRUE)\n",
    "# パッケージの読み込み\n",
    "library(\"randomForest\")\n",
    "# ランダムフォレスト\n",
    "set.seed(100)  # 乱数のシードを固定\n",
    "rf.model <- randomForest(as.factor(author) ~ ., data = docNgram.result.2, mtry = 4, proximity = TRUE)  # ランダムフォレスト\n",
    "rf.model  # 結果の確認"
   ]
  },
  {
   "cell_type": "code",
   "execution_count": null,
   "metadata": {},
   "outputs": [],
   "source": [
    "#チューニング\n",
    "rfTuning <- tuneRF(x = docNgram.result.2[,2:17], y = as.factor(docNgram.result.2$author),\n",
    "                   stepFactor = 2, improve = 0.05, trace = TRUE, plot = TRUE, doBest = TRUE )"
   ]
  },
  {
   "cell_type": "code",
   "execution_count": 8,
   "metadata": {},
   "outputs": [
    {
     "data": {
      "text/html": [
       "<table>\n",
       "<caption>A matrix: 16 × 1 of type dbl</caption>\n",
       "<thead>\n",
       "\t<tr><th></th><th scope=col>MeanDecreaseGini</th></tr>\n",
       "</thead>\n",
       "<tbody>\n",
       "\t<tr><th scope=row>か</th><td>1.2260362</td></tr>\n",
       "\t<tr><th scope=row>が</th><td>1.2672580</td></tr>\n",
       "\t<tr><th scope=row>く</th><td>0.3720782</td></tr>\n",
       "\t<tr><th scope=row>し</th><td>2.1533435</td></tr>\n",
       "\t<tr><th scope=row>ず</th><td>1.7390924</td></tr>\n",
       "\t<tr><th scope=row>て</th><td>0.7094302</td></tr>\n",
       "\t<tr><th scope=row>で</th><td>0.9595421</td></tr>\n",
       "\t<tr><th scope=row>と</th><td>0.6060952</td></tr>\n",
       "\t<tr><th scope=row>に</th><td>1.4750861</td></tr>\n",
       "\t<tr><th scope=row>は</th><td>1.8443643</td></tr>\n",
       "\t<tr><th scope=row>ば</th><td>1.4605070</td></tr>\n",
       "\t<tr><th scope=row>へ</th><td>0.8230643</td></tr>\n",
       "\t<tr><th scope=row>も</th><td>1.6802511</td></tr>\n",
       "\t<tr><th scope=row>ら</th><td>0.8988288</td></tr>\n",
       "\t<tr><th scope=row>り</th><td>1.2990497</td></tr>\n",
       "\t<tr><th scope=row>れ</th><td>0.6712528</td></tr>\n",
       "</tbody>\n",
       "</table>\n"
      ],
      "text/latex": [
       "A matrix: 16 × 1 of type dbl\n",
       "\\begin{tabular}{r|l}\n",
       "  & MeanDecreaseGini\\\\\n",
       "\\hline\n",
       "\tか & 1.2260362\\\\\n",
       "\tが & 1.2672580\\\\\n",
       "\tく & 0.3720782\\\\\n",
       "\tし & 2.1533435\\\\\n",
       "\tず & 1.7390924\\\\\n",
       "\tて & 0.7094302\\\\\n",
       "\tで & 0.9595421\\\\\n",
       "\tと & 0.6060952\\\\\n",
       "\tに & 1.4750861\\\\\n",
       "\tは & 1.8443643\\\\\n",
       "\tば & 1.4605070\\\\\n",
       "\tへ & 0.8230643\\\\\n",
       "\tも & 1.6802511\\\\\n",
       "\tら & 0.8988288\\\\\n",
       "\tり & 1.2990497\\\\\n",
       "\tれ & 0.6712528\\\\\n",
       "\\end{tabular}\n"
      ],
      "text/markdown": [
       "\n",
       "A matrix: 16 × 1 of type dbl\n",
       "\n",
       "| <!--/--> | MeanDecreaseGini |\n",
       "|---|---|\n",
       "| か | 1.2260362 |\n",
       "| が | 1.2672580 |\n",
       "| く | 0.3720782 |\n",
       "| し | 2.1533435 |\n",
       "| ず | 1.7390924 |\n",
       "| て | 0.7094302 |\n",
       "| で | 0.9595421 |\n",
       "| と | 0.6060952 |\n",
       "| に | 1.4750861 |\n",
       "| は | 1.8443643 |\n",
       "| ば | 1.4605070 |\n",
       "| へ | 0.8230643 |\n",
       "| も | 1.6802511 |\n",
       "| ら | 0.8988288 |\n",
       "| り | 1.2990497 |\n",
       "| れ | 0.6712528 |\n",
       "\n"
      ],
      "text/plain": [
       "   MeanDecreaseGini\n",
       "か 1.2260362       \n",
       "が 1.2672580       \n",
       "く 0.3720782       \n",
       "し 2.1533435       \n",
       "ず 1.7390924       \n",
       "て 0.7094302       \n",
       "で 0.9595421       \n",
       "と 0.6060952       \n",
       "に 1.4750861       \n",
       "は 1.8443643       \n",
       "ば 1.4605070       \n",
       "へ 0.8230643       \n",
       "も 1.6802511       \n",
       "ら 0.8988288       \n",
       "り 1.2990497       \n",
       "れ 0.6712528       "
      ]
     },
     "metadata": {},
     "output_type": "display_data"
    }
   ],
   "source": [
    "# 変数の重要度を確認\n",
    "rf.model$importance"
   ]
  },
  {
   "cell_type": "code",
   "execution_count": 9,
   "metadata": {},
   "outputs": [
    {
     "name": "stderr",
     "output_type": "stream",
     "text": [
      "Warning message in grid.Call(C_textBounds, as.graphicsAnnot(x$label), x$x, x$y, :\n",
      "\" Windows のフォントデータベースにフォントファミリが見付かりません \"\n",
      "Warning message in grid.Call(C_textBounds, as.graphicsAnnot(x$label), x$x, x$y, :\n",
      "\" Windows のフォントデータベースにフォントファミリが見付かりません \"\n",
      "Warning message in grid.Call(C_textBounds, as.graphicsAnnot(x$label), x$x, x$y, :\n",
      "\" Windows のフォントデータベースにフォントファミリが見付かりません \"\n",
      "Warning message in grid.Call(C_textBounds, as.graphicsAnnot(x$label), x$x, x$y, :\n",
      "\" Windows のフォントデータベースにフォントファミリが見付かりません \"\n",
      "Warning message in grid.Call(C_textBounds, as.graphicsAnnot(x$label), x$x, x$y, :\n",
      "\" Windows のフォントデータベースにフォントファミリが見付かりません \"\n",
      "Warning message in grid.Call(C_textBounds, as.graphicsAnnot(x$label), x$x, x$y, :\n",
      "\" Windows のフォントデータベースにフォントファミリが見付かりません \"\n",
      "Warning message in grid.Call(C_textBounds, as.graphicsAnnot(x$label), x$x, x$y, :\n",
      "\" Windows のフォントデータベースにフォントファミリが見付かりません \"\n",
      "Warning message in grid.Call.graphics(C_text, as.graphicsAnnot(x$label), x$x, x$y, :\n",
      "\" Windows のフォントデータベースにフォントファミリが見付かりません \"\n"
     ]
    },
    {
     "data": {
      "image/png": "[encoded data removed]",
      "text/plain": [
       "plot without title"
      ]
     },
     "metadata": {
      "image/png": {
       "height": 420,
       "width": 420
      }
     },
     "output_type": "display_data"
    }
   ],
   "source": [
    "# パッケージの読み込み\n",
    "library(\"tibble\")\n",
    "# 描画用にデータを整形\n",
    "varimp <- rf.model$importance %>%  # 変数重要度（ジニ係数の平均減分）を抽出\n",
    "  as.data.frame() %>%  # データフレームに変換\n",
    "  rownames_to_column(., \"letters\")  # 行ラベルを列として追加\n",
    " # ドットチャートを作成\n",
    "ggplot(varimp, aes(y = reorder(letters, MeanDecreaseGini), x = MeanDecreaseGini)) +  # 描画に用いるデータフレームと変数を指定（変数重要度の高い順に並び替え）\n",
    "  geom_point() +  # 描画の形式を指定\n",
    "  ylab(\"Letters\") + # y軸のラベルを指定\n",
    "  theme_gray(base_family = \"HiraKakuPro-W3\")  # 日本語フォントを指定"
   ]
  },
  {
   "cell_type": "code",
   "execution_count": 11,
   "metadata": {},
   "outputs": [
    {
     "data": {
      "text/html": [
       "<table>\n",
       "<caption>A data.frame: 25 × 3</caption>\n",
       "<thead>\n",
       "\t<tr><th></th><th scope=col>Dim.1</th><th scope=col>Dim.2</th><th scope=col>作者</th></tr>\n",
       "\t<tr><th></th><th scope=col>&lt;dbl&gt;</th><th scope=col>&lt;dbl&gt;</th><th scope=col>&lt;chr&gt;</th></tr>\n",
       "</thead>\n",
       "<tbody>\n",
       "\t<tr><th scope=row>A_haguruma</th><td>-0.16599422</td><td> 0.25249195</td><td>芥川</td></tr>\n",
       "\t<tr><th scope=row>A_hana</th><td>-0.12989959</td><td>-0.27033907</td><td>芥川</td></tr>\n",
       "\t<tr><th scope=row>A_rashomon</th><td>-0.16361326</td><td>-0.24139320</td><td>芥川</td></tr>\n",
       "\t<tr><th scope=row>A_torokko</th><td>-0.14518442</td><td>-0.10529979</td><td>芥川</td></tr>\n",
       "\t<tr><th scope=row>A_un</th><td>-0.08117105</td><td>-0.35933252</td><td>芥川</td></tr>\n",
       "\t<tr><th scope=row>D_hanafubuki</th><td> 0.30425149</td><td>-0.26780831</td><td>太宰</td></tr>\n",
       "\t<tr><th scope=row>D_hashire_merosu</th><td> 0.26728187</td><td>-0.27353350</td><td>太宰</td></tr>\n",
       "\t<tr><th scope=row>D_ningen_shikkaku</th><td> 0.27121807</td><td>-0.40130068</td><td>太宰</td></tr>\n",
       "\t<tr><th scope=row>D_shayo</th><td> 0.17609026</td><td>-0.48513325</td><td>太宰</td></tr>\n",
       "\t<tr><th scope=row>D_tsugaru</th><td> 0.25535192</td><td>-0.40994990</td><td>太宰</td></tr>\n",
       "\t<tr><th scope=row>F_gakumonno_dokuritsu</th><td> 0.46102683</td><td> 0.21074384</td><td>福沢</td></tr>\n",
       "\t<tr><th scope=row>F_gakumonno_susume</th><td> 0.44369681</td><td> 0.38643554</td><td>福沢</td></tr>\n",
       "\t<tr><th scope=row>F_gakusha_anshin_ron</th><td> 0.50059817</td><td> 0.22065567</td><td>福沢</td></tr>\n",
       "\t<tr><th scope=row>F_nihon_danshi_ron</th><td> 0.48022897</td><td> 0.31976044</td><td>福沢</td></tr>\n",
       "\t<tr><th scope=row>F_onna_daigaku_hyoron</th><td> 0.43412442</td><td> 0.27072707</td><td>福沢</td></tr>\n",
       "\t<tr><th scope=row>M_gan</th><td>-0.33904497</td><td>-0.02083368</td><td>森  </td></tr>\n",
       "\t<tr><th scope=row>M_hyakumonogatari</th><td>-0.29509849</td><td>-0.07271961</td><td>森  </td></tr>\n",
       "\t<tr><th scope=row>M_maihime</th><td> 0.28186781</td><td> 0.26198636</td><td>森  </td></tr>\n",
       "\t<tr><th scope=row>M_moso</th><td>-0.33212462</td><td> 0.05986624</td><td>森  </td></tr>\n",
       "\t<tr><th scope=row>M_seinen</th><td>-0.36661254</td><td>-0.03203138</td><td>森  </td></tr>\n",
       "\t<tr><th scope=row>N_bocchan</th><td>-0.29990654</td><td> 0.02557491</td><td>夏目</td></tr>\n",
       "\t<tr><th scope=row>N_gubijinso</th><td>-0.41719585</td><td> 0.20917715</td><td>夏目</td></tr>\n",
       "\t<tr><th scope=row>N_kokoro</th><td>-0.40616059</td><td> 0.20595291</td><td>夏目</td></tr>\n",
       "\t<tr><th scope=row>N_nowaki</th><td>-0.36777274</td><td> 0.26255550</td><td>夏目</td></tr>\n",
       "\t<tr><th scope=row>N_wagahaiwa_nekodearu</th><td>-0.36595774</td><td> 0.25374732</td><td>夏目</td></tr>\n",
       "</tbody>\n",
       "</table>\n"
      ],
      "text/latex": [
       "A data.frame: 25 × 3\n",
       "\\begin{tabular}{r|lll}\n",
       "  & Dim.1 & Dim.2 & 作者\\\\\n",
       "  & <dbl> & <dbl> & <chr>\\\\\n",
       "\\hline\n",
       "\tA\\_haguruma & -0.16599422 &  0.25249195 & 芥川\\\\\n",
       "\tA\\_hana & -0.12989959 & -0.27033907 & 芥川\\\\\n",
       "\tA\\_rashomon & -0.16361326 & -0.24139320 & 芥川\\\\\n",
       "\tA\\_torokko & -0.14518442 & -0.10529979 & 芥川\\\\\n",
       "\tA\\_un & -0.08117105 & -0.35933252 & 芥川\\\\\n",
       "\tD\\_hanafubuki &  0.30425149 & -0.26780831 & 太宰\\\\\n",
       "\tD\\_hashire\\_merosu &  0.26728187 & -0.27353350 & 太宰\\\\\n",
       "\tD\\_ningen\\_shikkaku &  0.27121807 & -0.40130068 & 太宰\\\\\n",
       "\tD\\_shayo &  0.17609026 & -0.48513325 & 太宰\\\\\n",
       "\tD\\_tsugaru &  0.25535192 & -0.40994990 & 太宰\\\\\n",
       "\tF\\_gakumonno\\_dokuritsu &  0.46102683 &  0.21074384 & 福沢\\\\\n",
       "\tF\\_gakumonno\\_susume &  0.44369681 &  0.38643554 & 福沢\\\\\n",
       "\tF\\_gakusha\\_anshin\\_ron &  0.50059817 &  0.22065567 & 福沢\\\\\n",
       "\tF\\_nihon\\_danshi\\_ron &  0.48022897 &  0.31976044 & 福沢\\\\\n",
       "\tF\\_onna\\_daigaku\\_hyoron &  0.43412442 &  0.27072707 & 福沢\\\\\n",
       "\tM\\_gan & -0.33904497 & -0.02083368 & 森  \\\\\n",
       "\tM\\_hyakumonogatari & -0.29509849 & -0.07271961 & 森  \\\\\n",
       "\tM\\_maihime &  0.28186781 &  0.26198636 & 森  \\\\\n",
       "\tM\\_moso & -0.33212462 &  0.05986624 & 森  \\\\\n",
       "\tM\\_seinen & -0.36661254 & -0.03203138 & 森  \\\\\n",
       "\tN\\_bocchan & -0.29990654 &  0.02557491 & 夏目\\\\\n",
       "\tN\\_gubijinso & -0.41719585 &  0.20917715 & 夏目\\\\\n",
       "\tN\\_kokoro & -0.40616059 &  0.20595291 & 夏目\\\\\n",
       "\tN\\_nowaki & -0.36777274 &  0.26255550 & 夏目\\\\\n",
       "\tN\\_wagahaiwa\\_nekodearu & -0.36595774 &  0.25374732 & 夏目\\\\\n",
       "\\end{tabular}\n"
      ],
      "text/markdown": [
       "\n",
       "A data.frame: 25 × 3\n",
       "\n",
       "| <!--/--> | Dim.1 &lt;dbl&gt; | Dim.2 &lt;dbl&gt; | 作者 &lt;chr&gt; |\n",
       "|---|---|---|---|\n",
       "| A_haguruma | -0.16599422 |  0.25249195 | 芥川 |\n",
       "| A_hana | -0.12989959 | -0.27033907 | 芥川 |\n",
       "| A_rashomon | -0.16361326 | -0.24139320 | 芥川 |\n",
       "| A_torokko | -0.14518442 | -0.10529979 | 芥川 |\n",
       "| A_un | -0.08117105 | -0.35933252 | 芥川 |\n",
       "| D_hanafubuki |  0.30425149 | -0.26780831 | 太宰 |\n",
       "| D_hashire_merosu |  0.26728187 | -0.27353350 | 太宰 |\n",
       "| D_ningen_shikkaku |  0.27121807 | -0.40130068 | 太宰 |\n",
       "| D_shayo |  0.17609026 | -0.48513325 | 太宰 |\n",
       "| D_tsugaru |  0.25535192 | -0.40994990 | 太宰 |\n",
       "| F_gakumonno_dokuritsu |  0.46102683 |  0.21074384 | 福沢 |\n",
       "| F_gakumonno_susume |  0.44369681 |  0.38643554 | 福沢 |\n",
       "| F_gakusha_anshin_ron |  0.50059817 |  0.22065567 | 福沢 |\n",
       "| F_nihon_danshi_ron |  0.48022897 |  0.31976044 | 福沢 |\n",
       "| F_onna_daigaku_hyoron |  0.43412442 |  0.27072707 | 福沢 |\n",
       "| M_gan | -0.33904497 | -0.02083368 | 森   |\n",
       "| M_hyakumonogatari | -0.29509849 | -0.07271961 | 森   |\n",
       "| M_maihime |  0.28186781 |  0.26198636 | 森   |\n",
       "| M_moso | -0.33212462 |  0.05986624 | 森   |\n",
       "| M_seinen | -0.36661254 | -0.03203138 | 森   |\n",
       "| N_bocchan | -0.29990654 |  0.02557491 | 夏目 |\n",
       "| N_gubijinso | -0.41719585 |  0.20917715 | 夏目 |\n",
       "| N_kokoro | -0.40616059 |  0.20595291 | 夏目 |\n",
       "| N_nowaki | -0.36777274 |  0.26255550 | 夏目 |\n",
       "| N_wagahaiwa_nekodearu | -0.36595774 |  0.25374732 | 夏目 |\n",
       "\n"
      ],
      "text/plain": [
       "                      Dim.1       Dim.2       作者\n",
       "A_haguruma            -0.16599422  0.25249195 芥川\n",
       "A_hana                -0.12989959 -0.27033907 芥川\n",
       "A_rashomon            -0.16361326 -0.24139320 芥川\n",
       "A_torokko             -0.14518442 -0.10529979 芥川\n",
       "A_un                  -0.08117105 -0.35933252 芥川\n",
       "D_hanafubuki           0.30425149 -0.26780831 太宰\n",
       "D_hashire_merosu       0.26728187 -0.27353350 太宰\n",
       "D_ningen_shikkaku      0.27121807 -0.40130068 太宰\n",
       "D_shayo                0.17609026 -0.48513325 太宰\n",
       "D_tsugaru              0.25535192 -0.40994990 太宰\n",
       "F_gakumonno_dokuritsu  0.46102683  0.21074384 福沢\n",
       "F_gakumonno_susume     0.44369681  0.38643554 福沢\n",
       "F_gakusha_anshin_ron   0.50059817  0.22065567 福沢\n",
       "F_nihon_danshi_ron     0.48022897  0.31976044 福沢\n",
       "F_onna_daigaku_hyoron  0.43412442  0.27072707 福沢\n",
       "M_gan                 -0.33904497 -0.02083368 森  \n",
       "M_hyakumonogatari     -0.29509849 -0.07271961 森  \n",
       "M_maihime              0.28186781  0.26198636 森  \n",
       "M_moso                -0.33212462  0.05986624 森  \n",
       "M_seinen              -0.36661254 -0.03203138 森  \n",
       "N_bocchan             -0.29990654  0.02557491 夏目\n",
       "N_gubijinso           -0.41719585  0.20917715 夏目\n",
       "N_kokoro              -0.40616059  0.20595291 夏目\n",
       "N_nowaki              -0.36777274  0.26255550 夏目\n",
       "N_wagahaiwa_nekodearu -0.36595774  0.25374732 夏目"
      ]
     },
     "metadata": {},
     "output_type": "display_data"
    },
    {
     "data": {
      "image/png": "[encoded data removed]",
      "text/plain": [
       "plot without title"
      ]
     },
     "metadata": {
      "image/png": {
       "height": 420,
       "width": 420
      }
     },
     "output_type": "display_data"
    },
    {
     "data": {
      "image/png": "[encoded data removed]",
      "text/plain": [
       "plot without title"
      ]
     },
     "metadata": {
      "image/png": {
       "height": 420,
       "width": 420
      }
     },
     "output_type": "display_data"
    }
   ],
   "source": [
    "# 警告を非表示\n",
    "options(warn = -1)\n",
    "# ランダムフォレストの結果に基づく多次元尺度法\n",
    "mdsp <- MDSplot(rf.model, as.factor(docNgram.result.2$作者))$points %>%\n",
    "  as.data.frame()  # データフレームに変換\n",
    "colnames(mdsp) <- c(\"Dim.1\", \"Dim.2\")  # 列ラベルを編集\n",
    "mdsp$作者 <- c(rep(\"芥川\", 5), rep(\"太宰\", 5), rep(\"福沢\", 5), rep(\"森\", 5), rep(\"夏目\", 5))  # 「作者」の列を追加\n",
    "mdsp  # 描画用のデータフレームを確認\n",
    "# 散布図を作成\n",
    "ggplot(as.data.frame(mdsp), aes(x = Dim.1, y = Dim.2)) +  # 描画に用いるデータフレームと変数を指定\n",
    " geom_point(aes(colour = 作者)) +  # 描画の形式を指定\n",
    " aes(shape = 作者) +  # ポイントの形を指定\n",
    " theme_gray(base_family = \"HiraKakuPro-W3\")  # 日本語フォントを指定"
   ]
  },
  {
   "cell_type": "code",
   "execution_count": 37,
   "metadata": {},
   "outputs": [
    {
     "name": "stdout",
     "output_type": "stream",
     "text": [
      "mtry = 4  OOB error = 16% \n",
      "Searching left ...\n",
      "mtry = 2 \tOOB error = 20% \n",
      "-0.25 0.05 \n",
      "Searching right ...\n",
      "mtry = 8 \tOOB error = 16% \n",
      "0 0.05 \n"
     ]
    },
    {
     "ename": "ERROR",
     "evalue": "Error in png(tf, width, height, \"in\", pointsize, bg, res, antialias = antialias):  デバイス png() を開始できませんでした \n",
     "output_type": "error",
     "traceback": [
      "Error in png(tf, width, height, \"in\", pointsize, bg, res, antialias = antialias):  デバイス png() を開始できませんでした \nTraceback:\n"
     ]
    },
    {
     "data": {
      "text/plain": [
       "plot without title"
      ]
     },
     "metadata": {
      "image/png": {
       "height": 420,
       "width": 420
      }
     },
     "output_type": "display_data"
    }
   ],
   "source": []
  },
  {
   "cell_type": "code",
   "execution_count": 12,
   "metadata": {},
   "outputs": [
    {
     "name": "stderr",
     "output_type": "stream",
     "text": [
      "Loading required package: lattice\n",
      "\n",
      "\n",
      "Attaching package: 'kernlab'\n",
      "\n",
      "\n",
      "The following object is masked from 'package:ggplot2':\n",
      "\n",
      "    alpha\n",
      "\n",
      "\n"
     ]
    },
    {
     "data": {
      "text/plain": [
       "Support Vector Machines with Radial Basis Function Kernel \n",
       "\n",
       "4601 samples\n",
       "  57 predictor\n",
       "   2 classes: 'nonspam', 'spam' \n",
       "\n",
       "No pre-processing\n",
       "Resampling: Cross-Validated (10 fold) \n",
       "Summary of sample sizes: 4142, 4141, 4141, 4141, 4140, 4140, ... \n",
       "Resampling results across tuning parameters:\n",
       "\n",
       "  C    sigma  Accuracy   Kappa    \n",
       "  0.5  0.005  0.9208865  0.8320396\n",
       "  0.5  0.010  0.9282783  0.8481370\n",
       "  1.0  0.005  0.9258874  0.8431626\n",
       "  1.0  0.010  0.9326266  0.8577377\n",
       "\n",
       "Accuracy was used to select the optimal model using the largest value.\n",
       "The final values used for the model were sigma = 0.01 and C = 1."
      ]
     },
     "metadata": {},
     "output_type": "display_data"
    }
   ],
   "source": [
    "# パッケージのインストール（初回のみ）\n",
    "#install.packages(c(\"caret\", \"kernlab\"), dependencies = TRUE)\n",
    "# パッケージの読み込み\n",
    "library(\"caret\")\n",
    "library(\"kernlab\")\n",
    "\n",
    "# SVM（10-foldの交差妥当化）\n",
    "set.seed(1)  # 乱数のシードを固定\n",
    "tuneGrid <- expand.grid(.C = c(0.5, 1), .sigma = c(0.005, 0.01))  # 探索するハイパーパラメータ空間を指定\n",
    "trControl <- trainControl(method = \"cv\", number = 10)  # 交差妥当化のnを指定\n",
    "svm.caret <- train(as.factor(author) ~ ., data = docNgram.result.2, method = \"svmRadial\", tuneGrid = tuneGrid, trControl = trControl)  # グリッドサーチ\n",
    "# グリッドサーチの結果を確認\n",
    "svm.caret"
   ]
  }
 ],
 "metadata": {
  "kernelspec": {
   "display_name": "R",
   "language": "R",
   "name": "ir"
  },
  "language_info": {
   "codemirror_mode": "r",
   "file_extension": ".r",
   "mimetype": "text/x-r-source",
   "name": "R",
   "pygments_lexer": "r",
   "version": "4.0.3"
  }
 },
 "nbformat": 4,
 "nbformat_minor": 4
}
